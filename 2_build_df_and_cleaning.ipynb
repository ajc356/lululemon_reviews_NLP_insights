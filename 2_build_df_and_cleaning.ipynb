{
 "cells": [
  {
   "cell_type": "markdown",
   "metadata": {},
   "source": [
    "# Actionable Insights from Lululemon Reviews - Dataframe Construction and Cleaning"
   ]
  },
  {
   "cell_type": "markdown",
   "metadata": {},
   "source": [
    "Amanda Cheney  \n",
    "Metis Project 4  \n",
    "Part 2 of 4    \n",
    "November 13, 2020  \n",
    "\n",
    "**Objective**  \n",
    "\n",
    "Natural language processing & unsupervised learning exploration of customer reviews of lululemon’s best-selling sports bras to derive actionable insights for product development and management team and develop a recommender system to provide a curated collection of reviews specifically tailored to customer product needs.\n",
    "\n",
    "**Data Sources**   \n",
    "9,000+ reviews of all 13 of Lululemon's bestselling sports bras, collected using Selenium. \n",
    "\n",
    "**This Notebook**  \n",
    "Creates one large dataframe from all my scraped data, performs cleaning and feature engineering to arrive at a final database ready for NLP Preprocessing in the following notebook."
   ]
  },
  {
   "cell_type": "markdown",
   "metadata": {},
   "source": [
    "## Imports"
   ]
  },
  {
   "cell_type": "code",
   "execution_count": 1,
   "metadata": {},
   "outputs": [],
   "source": [
    "import pandas as pd\n",
    "import pickle"
   ]
  },
  {
   "cell_type": "markdown",
   "metadata": {},
   "source": [
    "## Load Product Reviews"
   ]
  },
  {
   "cell_type": "code",
   "execution_count": 2,
   "metadata": {},
   "outputs": [],
   "source": [
    "with open('zero.pickle', 'rb') as read_file:\n",
    "    zero = pickle.load(read_file)"
   ]
  },
  {
   "cell_type": "code",
   "execution_count": 3,
   "metadata": {},
   "outputs": [
    {
     "data": {
      "text/plain": [
       "89"
      ]
     },
     "execution_count": 3,
     "metadata": {},
     "output_type": "execute_result"
    }
   ],
   "source": [
    "len(zero)"
   ]
  },
  {
   "cell_type": "markdown",
   "metadata": {},
   "source": [
    "Let's have a look at an individual review to make sure we got all the pieces of information we wanted to get from scraping.   \n",
    "This one looks good! Note that the number of total ratings matches the length of the list."
   ]
  },
  {
   "cell_type": "code",
   "execution_count": 4,
   "metadata": {},
   "outputs": [
    {
     "data": {
      "text/plain": [
       "{'product_name': 'Like a Cloud Bra Light Support, B/C Cup',\n",
       " 'product_url': 'https://shop.lululemon.com/p/women-sports-bras/Like-a-Cloud-Bra/_/prod9960745?color=45609',\n",
       " 'product_list_price': '$58.00 USD',\n",
       " 'product_avg_rating': '4.6',\n",
       " 'title': \"Haven't taken it off\",\n",
       " 'content': 'I purchased this bra in the hazy jade color about 2 weeks ago and have been wearing it everyday since... My fiancé is so sick of it that he went out and bought it in the other colors. Please make more!!!',\n",
       " 'rating': '5',\n",
       " 'name': 'Anonymous',\n",
       " 'date': '2020-10-31',\n",
       " 'review counter': 1,\n",
       " 'num_total_ratings': '(89)'}"
      ]
     },
     "execution_count": 4,
     "metadata": {},
     "output_type": "execute_result"
    }
   ],
   "source": [
    "zero[0]"
   ]
  },
  {
   "cell_type": "code",
   "execution_count": 5,
   "metadata": {},
   "outputs": [],
   "source": [
    "zero = pd.DataFrame(zero)"
   ]
  },
  {
   "cell_type": "code",
   "execution_count": 6,
   "metadata": {},
   "outputs": [],
   "source": [
    "with open('one.pickle', 'rb') as read_file:\n",
    "    one = pickle.load(read_file)"
   ]
  },
  {
   "cell_type": "code",
   "execution_count": 7,
   "metadata": {},
   "outputs": [
    {
     "data": {
      "text/plain": [
       "3036"
      ]
     },
     "execution_count": 7,
     "metadata": {},
     "output_type": "execute_result"
    }
   ],
   "source": [
    "len(one)"
   ]
  },
  {
   "cell_type": "markdown",
   "metadata": {},
   "source": [
    "Let's have a look at an individual review to make sure we got all the pieces of information we wanted to get from scraping.   \n",
    "This one looks good - although the number of total ratings differs slightly from the the length of the list, this may be because a few people have simply given a star rating without a written review."
   ]
  },
  {
   "cell_type": "code",
   "execution_count": 8,
   "metadata": {},
   "outputs": [
    {
     "data": {
      "text/plain": [
       "{'product_name': 'Energy Bra Medium Support, B–D Cup',\n",
       " 'product_url': 'https://shop.lululemon.com/p/women-sports-bras/Energy-Bra-32925/_/prod9360058?color=47199',\n",
       " 'product_list_price': '$52.00 USD',\n",
       " 'product_avg_rating': '4.1',\n",
       " 'title': 'Comfortable, supportive exercise bra',\n",
       " 'content': 'Good bra that looks good under exercise wear and is soft',\n",
       " 'rating': '5',\n",
       " 'name': 'Nancy Lulu',\n",
       " 'date': '2020-10-31',\n",
       " 'review counter': 1,\n",
       " 'num_total_ratings': '(3069)'}"
      ]
     },
     "execution_count": 8,
     "metadata": {},
     "output_type": "execute_result"
    }
   ],
   "source": [
    "one[0]"
   ]
  },
  {
   "cell_type": "code",
   "execution_count": 9,
   "metadata": {},
   "outputs": [],
   "source": [
    "one = pd.DataFrame(one)"
   ]
  },
  {
   "cell_type": "code",
   "execution_count": 10,
   "metadata": {},
   "outputs": [],
   "source": [
    "with open('two.pickle', 'rb') as read_file:\n",
    "    two = pickle.load(read_file)"
   ]
  },
  {
   "cell_type": "code",
   "execution_count": 11,
   "metadata": {},
   "outputs": [
    {
     "data": {
      "text/plain": [
       "1534"
      ]
     },
     "execution_count": 11,
     "metadata": {},
     "output_type": "execute_result"
    }
   ],
   "source": [
    "len(two)"
   ]
  },
  {
   "cell_type": "markdown",
   "metadata": {},
   "source": [
    "Let's have a look at an individual review to make sure we got all the pieces of information we wanted to get from scraping.   \n",
    "This one looks good - although the number of total ratings differs slightly from the the length of the list, this may be because a few people have simply given a star rating without a written review."
   ]
  },
  {
   "cell_type": "code",
   "execution_count": 12,
   "metadata": {},
   "outputs": [
    {
     "data": {
      "text/plain": [
       "{'product_name': 'Free To Be Bra Wild Light Support, A/B Cup',\n",
       " 'product_url': 'https://shop.lululemon.com/p/women-sports-bras/Free-To-Be-Bra-Wild/_/prod2810229?color=45881',\n",
       " 'product_list_price': '$48.00 USD',\n",
       " 'product_avg_rating': '4.1',\n",
       " 'title': 'Straps feel apart',\n",
       " 'content': 'Loved this bra for comfort and to wear for everyday use when feeling lazy but still want some structure and might support. However the straps are too thin and two have already snapped off where they join to the band. Super disappointing.',\n",
       " 'rating': '2',\n",
       " 'name': 'TheBreezie1',\n",
       " 'date': '2020-10-27',\n",
       " 'review counter': 1,\n",
       " 'num_total_ratings': '(1551)'}"
      ]
     },
     "execution_count": 12,
     "metadata": {},
     "output_type": "execute_result"
    }
   ],
   "source": [
    "two[0]"
   ]
  },
  {
   "cell_type": "code",
   "execution_count": 13,
   "metadata": {},
   "outputs": [],
   "source": [
    "two = pd.DataFrame(two)"
   ]
  },
  {
   "cell_type": "code",
   "execution_count": 14,
   "metadata": {},
   "outputs": [],
   "source": [
    "with open('three.pickle', 'rb') as read_file:\n",
    "    three = pickle.load(read_file)"
   ]
  },
  {
   "cell_type": "code",
   "execution_count": 15,
   "metadata": {},
   "outputs": [
    {
     "data": {
      "text/plain": [
       "53"
      ]
     },
     "execution_count": 15,
     "metadata": {},
     "output_type": "execute_result"
    }
   ],
   "source": [
    "len(three)"
   ]
  },
  {
   "cell_type": "markdown",
   "metadata": {},
   "source": [
    "Let's have a look at an individual review to make sure we got all the pieces of information we wanted to get from scraping.   \n",
    "This one looks good!"
   ]
  },
  {
   "cell_type": "code",
   "execution_count": 16,
   "metadata": {},
   "outputs": [
    {
     "data": {
      "text/plain": [
       "{'product_name': 'Invigorate Bra Long Line Medium Support, B/C Cup',\n",
       " 'product_url': 'https://shop.lululemon.com/p/women-sports-bras/Invigorate-Bra-Long-Line/_/prod8780603?color=0001',\n",
       " 'product_list_price': '$58.00 USD',\n",
       " 'product_avg_rating': '4.2',\n",
       " 'title': 'Great sports bra',\n",
       " 'content': 'Awesome support and coverage! I’m a UK 32K (US 32O) and it covers me well in a size 10 with minimal bounce',\n",
       " 'rating': '5',\n",
       " 'name': 'AshleyNM416',\n",
       " 'date': '2020-10-15',\n",
       " 'review counter': 1,\n",
       " 'num_total_ratings': '(53)'}"
      ]
     },
     "execution_count": 16,
     "metadata": {},
     "output_type": "execute_result"
    }
   ],
   "source": [
    "three[0]"
   ]
  },
  {
   "cell_type": "code",
   "execution_count": 17,
   "metadata": {},
   "outputs": [],
   "source": [
    "three = pd.DataFrame(three)"
   ]
  },
  {
   "cell_type": "code",
   "execution_count": 18,
   "metadata": {},
   "outputs": [],
   "source": [
    "with open('four.pickle', 'rb') as read_file:\n",
    "    four = pickle.load(read_file)"
   ]
  },
  {
   "cell_type": "code",
   "execution_count": 19,
   "metadata": {},
   "outputs": [
    {
     "data": {
      "text/plain": [
       "848"
      ]
     },
     "execution_count": 19,
     "metadata": {},
     "output_type": "execute_result"
    }
   ],
   "source": [
    "len(four)"
   ]
  },
  {
   "cell_type": "markdown",
   "metadata": {},
   "source": [
    "Let's have a look at an individual review to make sure we got all the pieces of information we wanted to get from scraping.   \n",
    "This one looks good - although the number of total ratings differs slightly from the the length of the list, this may be because a few people have simply given a star rating without a written review."
   ]
  },
  {
   "cell_type": "code",
   "execution_count": 20,
   "metadata": {},
   "outputs": [
    {
     "data": {
      "text/plain": [
       "{'product_name': 'Flow Y Bra Nulu Light Support, B/C Cup',\n",
       " 'product_url': 'https://shop.lululemon.com/p/women-sports-bras/Flow-Y-Bra-Nulu/_/prod8910081?color=46599',\n",
       " 'product_list_price': '$48.00 USD',\n",
       " 'product_avg_rating': '3.8',\n",
       " 'title': 'Comfort',\n",
       " 'content': 'I was so shocked by how accommodating this bra is for wide backs and broad shoulders. I absolutely love it and will be buying more!',\n",
       " 'rating': '5',\n",
       " 'name': 'Caitlin Brown',\n",
       " 'date': '2020-10-31',\n",
       " 'review counter': 1,\n",
       " 'num_total_ratings': '(852)'}"
      ]
     },
     "execution_count": 20,
     "metadata": {},
     "output_type": "execute_result"
    }
   ],
   "source": [
    "four[0]"
   ]
  },
  {
   "cell_type": "code",
   "execution_count": 21,
   "metadata": {},
   "outputs": [],
   "source": [
    "four = pd.DataFrame(four)"
   ]
  },
  {
   "cell_type": "code",
   "execution_count": 22,
   "metadata": {},
   "outputs": [],
   "source": [
    "with open('five.pickle', 'rb') as read_file:\n",
    "    five = pickle.load(read_file)"
   ]
  },
  {
   "cell_type": "code",
   "execution_count": 23,
   "metadata": {},
   "outputs": [
    {
     "data": {
      "text/plain": [
       "123"
      ]
     },
     "execution_count": 23,
     "metadata": {},
     "output_type": "execute_result"
    }
   ],
   "source": [
    "len(five)"
   ]
  },
  {
   "cell_type": "markdown",
   "metadata": {},
   "source": [
    "Let's have a look at an individual review to make sure we got all the pieces of information we wanted to get from scraping.   \n",
    "This one looks good!"
   ]
  },
  {
   "cell_type": "code",
   "execution_count": 24,
   "metadata": {},
   "outputs": [
    {
     "data": {
      "text/plain": [
       "{'product_name': 'Ebb to Street Bra Light Support, C/D Cup',\n",
       " 'product_url': 'https://shop.lululemon.com/p/women-sports-bras/Ebb-to-Street-Bra-CD/_/prod9750488?color=19964',\n",
       " 'product_list_price': '$54.00 USD',\n",
       " 'product_avg_rating': '4.2',\n",
       " 'title': 'Awesome support and coverage',\n",
       " 'content': '34dd and absolutely love this bra. I got my normal bra size 8 and it fits perfectly. No side boob, very supportive, a bit of cleavage but it’s tasteful, and very comfortable. So excited lulu is finally making bras in styles for larger busts.',\n",
       " 'rating': '5',\n",
       " 'name': 'Hyksnuiijbih',\n",
       " 'date': '2020-10-31',\n",
       " 'review counter': 1,\n",
       " 'num_total_ratings': '(123)'}"
      ]
     },
     "execution_count": 24,
     "metadata": {},
     "output_type": "execute_result"
    }
   ],
   "source": [
    "five[0]"
   ]
  },
  {
   "cell_type": "code",
   "execution_count": 25,
   "metadata": {},
   "outputs": [],
   "source": [
    "five = pd.DataFrame(five)"
   ]
  },
  {
   "cell_type": "code",
   "execution_count": 26,
   "metadata": {},
   "outputs": [],
   "source": [
    "with open('six.pickle', 'rb') as read_file:\n",
    "    six = pickle.load(read_file)"
   ]
  },
  {
   "cell_type": "code",
   "execution_count": 27,
   "metadata": {},
   "outputs": [
    {
     "data": {
      "text/plain": [
       "691"
      ]
     },
     "execution_count": 27,
     "metadata": {},
     "output_type": "execute_result"
    }
   ],
   "source": [
    "len(six)"
   ]
  },
  {
   "cell_type": "markdown",
   "metadata": {},
   "source": [
    "Let's have a look at an individual review to make sure we got all the pieces of information we wanted to get from scraping.   \n",
    "It looks like it's missing information for average product rating... "
   ]
  },
  {
   "cell_type": "code",
   "execution_count": 28,
   "metadata": {},
   "outputs": [
    {
     "data": {
      "text/plain": [
       "{'product_name': 'Enlite Bra Zip Front High Support, A–E Cups',\n",
       " 'product_url': 'https://shop.lululemon.com/p/women-sports-bras/Enlite-Bra-Zip-Front/_/prod9090126?color=0001',\n",
       " 'product_list_price': '$108.00 USD',\n",
       " 'product_avg_rating': '',\n",
       " 'title': 'Fantastic Sports Bra',\n",
       " 'content': 'I have a hard time finding a bra that works for running or a high impact workout.',\n",
       " 'rating': '5',\n",
       " 'name': 'Kristin1974',\n",
       " 'date': '2020-10-31',\n",
       " 'review counter': 1,\n",
       " 'num_total_ratings': '(707)'}"
      ]
     },
     "execution_count": 28,
     "metadata": {},
     "output_type": "execute_result"
    }
   ],
   "source": [
    "six[0]"
   ]
  },
  {
   "cell_type": "markdown",
   "metadata": {},
   "source": [
    "... this one too...."
   ]
  },
  {
   "cell_type": "code",
   "execution_count": 29,
   "metadata": {},
   "outputs": [
    {
     "data": {
      "text/plain": [
       "{'product_name': 'Enlite Bra Zip Front High Support, A–E Cups',\n",
       " 'product_url': 'https://shop.lululemon.com/p/women-sports-bras/Enlite-Bra-Zip-Front/_/prod9090126?color=0001',\n",
       " 'product_list_price': '$108.00 USD',\n",
       " 'product_avg_rating': '',\n",
       " 'title': 'Best Sports Bra Ever!',\n",
       " 'content': \"This is the best and only sports bra I will wear for any type of high-intensity, or cardio workout. Running is my exercise of choice, and with a large 34DD chest, finding the right support without having to double up is amazing. I find these are true to size, tight, and keep the girls in place. You can't really avoid a uni-boob with large boobs and a sports bra, but this one does its best. No bouncing, no pain, just the gals strapped in there for a long run.\\nI would recommend this bra to anyone. It keeps its shape, stays up, and you never have to awkwardly adjust it while working out. I have both the back close, and the front zip one - the front zip one is my favourite and I will definitely be buying more in the future. Especially when/if they go on sale!\",\n",
       " 'rating': '5',\n",
       " 'name': 'madwarrr33',\n",
       " 'date': '2020-04-01',\n",
       " 'review counter': 301,\n",
       " 'num_total_ratings': '(707)'}"
      ]
     },
     "execution_count": 29,
     "metadata": {},
     "output_type": "execute_result"
    }
   ],
   "source": [
    "six[300]"
   ]
  },
  {
   "cell_type": "markdown",
   "metadata": {},
   "source": [
    "For some reason this product is missing it's average product rating. All the other information appear to be in tact - so I will just manually fill in product rating in the DataFrame using the product information from the website."
   ]
  },
  {
   "cell_type": "code",
   "execution_count": 30,
   "metadata": {},
   "outputs": [],
   "source": [
    "six = pd.DataFrame(six)"
   ]
  },
  {
   "cell_type": "code",
   "execution_count": 31,
   "metadata": {},
   "outputs": [],
   "source": [
    "six['product_avg_rating']='3.5'"
   ]
  },
  {
   "cell_type": "code",
   "execution_count": 32,
   "metadata": {},
   "outputs": [],
   "source": [
    "with open('seven.pickle', 'rb') as read_file:\n",
    "    seven = pickle.load(read_file)"
   ]
  },
  {
   "cell_type": "code",
   "execution_count": 33,
   "metadata": {},
   "outputs": [
    {
     "data": {
      "text/plain": [
       "860"
      ]
     },
     "execution_count": 33,
     "metadata": {},
     "output_type": "execute_result"
    }
   ],
   "source": [
    "len(seven)"
   ]
  },
  {
   "cell_type": "markdown",
   "metadata": {},
   "source": [
    "Let's have a look at an individual review to make sure we got all the pieces of information we wanted to get from scraping.   \n",
    "This one looks good - although the number of total ratings differs slightly from the the length of the list, this may be because a few people have simply given a star rating without a written review."
   ]
  },
  {
   "cell_type": "code",
   "execution_count": 34,
   "metadata": {},
   "outputs": [
    {
     "data": {
      "text/plain": [
       "{'product_name': 'Energy Bra Long Line Medium Support, B–D Cup',\n",
       " 'product_url': 'https://shop.lululemon.com/p/women-sports-bras/Energy-Bra-Long-Line/_/prod9030660?color=47097',\n",
       " 'product_list_price': '$58.00 USD',\n",
       " 'product_avg_rating': '4.1',\n",
       " 'title': 'Looking fly while working out and relaxing!',\n",
       " 'content': 'Great bra for most day wear. Good for yoga, and leisure while looking fly.',\n",
       " 'rating': '4',\n",
       " 'name': 'Anna loves yoga athletics',\n",
       " 'date': '2020-10-30',\n",
       " 'review counter': 1,\n",
       " 'num_total_ratings': '(870)'}"
      ]
     },
     "execution_count": 34,
     "metadata": {},
     "output_type": "execute_result"
    }
   ],
   "source": [
    "seven[0]"
   ]
  },
  {
   "cell_type": "code",
   "execution_count": 35,
   "metadata": {},
   "outputs": [],
   "source": [
    "seven = pd.DataFrame(seven)"
   ]
  },
  {
   "cell_type": "code",
   "execution_count": 36,
   "metadata": {},
   "outputs": [],
   "source": [
    "with open('eight.pickle', 'rb') as read_file:\n",
    "    eight = pickle.load(read_file)"
   ]
  },
  {
   "cell_type": "code",
   "execution_count": 37,
   "metadata": {},
   "outputs": [
    {
     "data": {
      "text/plain": [
       "308"
      ]
     },
     "execution_count": 37,
     "metadata": {},
     "output_type": "execute_result"
    }
   ],
   "source": [
    "len(eight)"
   ]
  },
  {
   "cell_type": "markdown",
   "metadata": {},
   "source": [
    "Let's have a look at an individual review to make sure we got all the pieces of information we wanted to get from scraping.   \n",
    "This one looks good - although the number of total ratings differs slightly from the the length of the list, this may be because a few people have simply given a star rating without a written review."
   ]
  },
  {
   "cell_type": "code",
   "execution_count": 38,
   "metadata": {},
   "outputs": [
    {
     "data": {
      "text/plain": [
       "{'product_name': 'Ebb To Street Bra Light Support, A/B Cup',\n",
       " 'product_url': 'https://shop.lululemon.com/p/women-sports-bras/Ebb-To-Street-Bra-II/_/prod9270834?color=31382',\n",
       " 'product_list_price': '$54.00 USD',\n",
       " 'product_avg_rating': '3.1',\n",
       " 'title': 'Not as good as I thought it would be :(',\n",
       " 'content': 'Excellent fabric, not the best fit at all. Pretty disappointed :(',\n",
       " 'rating': '1',\n",
       " 'name': 'AliciaLifts',\n",
       " 'date': '2020-10-31',\n",
       " 'review counter': 1,\n",
       " 'num_total_ratings': '(340)'}"
      ]
     },
     "execution_count": 38,
     "metadata": {},
     "output_type": "execute_result"
    }
   ],
   "source": [
    "eight[0]"
   ]
  },
  {
   "cell_type": "code",
   "execution_count": 39,
   "metadata": {},
   "outputs": [],
   "source": [
    "eight = pd.DataFrame(eight)"
   ]
  },
  {
   "cell_type": "code",
   "execution_count": 40,
   "metadata": {},
   "outputs": [],
   "source": [
    "with open('nine.pickle', 'rb') as read_file:\n",
    "    nine = pickle.load(read_file)"
   ]
  },
  {
   "cell_type": "code",
   "execution_count": 41,
   "metadata": {},
   "outputs": [
    {
     "data": {
      "text/plain": [
       "540"
      ]
     },
     "execution_count": 41,
     "metadata": {},
     "output_type": "execute_result"
    }
   ],
   "source": [
    "len(nine)"
   ]
  },
  {
   "cell_type": "markdown",
   "metadata": {},
   "source": [
    "Let's have a look at an individual review to make sure we got all the pieces of information we wanted to get from scraping.   \n",
    "This one looks good - although the number of total ratings differs slightly from the the length of the list, this may be because a few people have simply given a star rating without a written review."
   ]
  },
  {
   "cell_type": "code",
   "execution_count": 42,
   "metadata": {},
   "outputs": [
    {
     "data": {
      "text/plain": [
       "{'product_name': 'Run Times Bra High Support, B–E Cups',\n",
       " 'product_url': 'https://shop.lululemon.com/p/women-sports-bras/Run-Times-Bra/_/prod9520104?color=45773',\n",
       " 'product_list_price': '$68.00 USD',\n",
       " 'product_avg_rating': '4.0',\n",
       " 'title': 'Perfect for big chested women on petite women',\n",
       " 'content': 'I love this bra! I needed a high to medium support for an intense workout. Always having a hard time to find a sports bra that fits perfectly. I wear 32DDD or 34DD on a regular bra and this one is of the workout rare items for big chested small frame women!',\n",
       " 'rating': '5',\n",
       " 'name': 'Angies2020',\n",
       " 'date': '2020-10-30',\n",
       " 'review counter': 1,\n",
       " 'num_total_ratings': '(558)'}"
      ]
     },
     "execution_count": 42,
     "metadata": {},
     "output_type": "execute_result"
    }
   ],
   "source": [
    "nine[0]"
   ]
  },
  {
   "cell_type": "code",
   "execution_count": 43,
   "metadata": {},
   "outputs": [],
   "source": [
    "nine = pd.DataFrame(nine)"
   ]
  },
  {
   "cell_type": "code",
   "execution_count": 44,
   "metadata": {},
   "outputs": [],
   "source": [
    "with open('ten.pickle', 'rb') as read_file:\n",
    "    ten = pickle.load(read_file)"
   ]
  },
  {
   "cell_type": "code",
   "execution_count": 45,
   "metadata": {},
   "outputs": [
    {
     "data": {
      "text/plain": [
       "334"
      ]
     },
     "execution_count": 45,
     "metadata": {},
     "output_type": "execute_result"
    }
   ],
   "source": [
    "len(ten)"
   ]
  },
  {
   "cell_type": "markdown",
   "metadata": {},
   "source": [
    "Let's have a look at an individual review to make sure we got all the pieces of information we wanted to get from scraping.   \n",
    "This one looks good - although the number of total ratings differs slightly from the the length of the list, this may be because a few people have simply given a star rating without a written review."
   ]
  },
  {
   "cell_type": "code",
   "execution_count": 46,
   "metadata": {},
   "outputs": [
    {
     "data": {
      "text/plain": [
       "{'product_name': 'Energy Bra High Neck Medium Support, B–D Cup',\n",
       " 'product_url': 'https://shop.lululemon.com/p/women-sports-bras/Energy-Bra-High-Neck/_/prod9270907?color=28948',\n",
       " 'product_list_price': '$58.00 USD',\n",
       " 'product_avg_rating': '4.3',\n",
       " 'title': 'Good!!',\n",
       " 'content': 'Comfortable, cute, but I feel like the cups should be better quality and more supportive for the price!',\n",
       " 'rating': '4',\n",
       " 'name': 'Britney Fitz',\n",
       " 'date': '2020-10-31',\n",
       " 'review counter': 1,\n",
       " 'num_total_ratings': '(340)'}"
      ]
     },
     "execution_count": 46,
     "metadata": {},
     "output_type": "execute_result"
    }
   ],
   "source": [
    "ten[0]"
   ]
  },
  {
   "cell_type": "code",
   "execution_count": 47,
   "metadata": {},
   "outputs": [],
   "source": [
    "ten = pd.DataFrame(ten)"
   ]
  },
  {
   "cell_type": "code",
   "execution_count": 48,
   "metadata": {},
   "outputs": [],
   "source": [
    "with open('eleven.pickle', 'rb') as read_file:\n",
    "    eleven = pickle.load(read_file)"
   ]
  },
  {
   "cell_type": "code",
   "execution_count": 49,
   "metadata": {},
   "outputs": [
    {
     "data": {
      "text/plain": [
       "225"
      ]
     },
     "execution_count": 49,
     "metadata": {},
     "output_type": "execute_result"
    }
   ],
   "source": [
    "len(eleven)"
   ]
  },
  {
   "cell_type": "markdown",
   "metadata": {},
   "source": [
    "Let's have a look at an individual review to make sure we got all the pieces of information we wanted to get from scraping.   \n",
    "This one looks good - although the number of total ratings differs slightly from the the length of the list, this may be because a few people have simply given a star rating without a written review."
   ]
  },
  {
   "cell_type": "code",
   "execution_count": 50,
   "metadata": {},
   "outputs": [
    {
     "data": {
      "text/plain": [
       "{'product_name': 'Free To Be Serene Bra Long Line Light Support, C/D Cup Online Only',\n",
       " 'product_url': 'https://shop.lululemon.com/p/women-sports-bras/Free-To-Be-Serene-Bra-Long-Line/_/prod9360057?color=45881',\n",
       " 'product_list_price': '$58.00 USD',\n",
       " 'product_avg_rating': '4.2',\n",
       " 'title': 'Super comfortable!',\n",
       " 'content': 'Flattering neckline and long line cut. I find it supportive enough for cross-training.',\n",
       " 'rating': '5',\n",
       " 'name': 'Anonymous',\n",
       " 'date': '2020-10-24',\n",
       " 'review counter': 1,\n",
       " 'num_total_ratings': '(228)'}"
      ]
     },
     "execution_count": 50,
     "metadata": {},
     "output_type": "execute_result"
    }
   ],
   "source": [
    "eleven[0]"
   ]
  },
  {
   "cell_type": "code",
   "execution_count": 51,
   "metadata": {},
   "outputs": [],
   "source": [
    "eleven = pd.DataFrame(eleven)"
   ]
  },
  {
   "cell_type": "code",
   "execution_count": 52,
   "metadata": {},
   "outputs": [
    {
     "data": {
      "text/plain": [
       "(225, 11)"
      ]
     },
     "execution_count": 52,
     "metadata": {},
     "output_type": "execute_result"
    }
   ],
   "source": [
    "eleven.shape"
   ]
  },
  {
   "cell_type": "code",
   "execution_count": 53,
   "metadata": {},
   "outputs": [],
   "source": [
    "with open('twelve.pickle', 'rb') as read_file:\n",
    "    twelve = pickle.load(read_file)"
   ]
  },
  {
   "cell_type": "code",
   "execution_count": 54,
   "metadata": {},
   "outputs": [
    {
     "data": {
      "text/plain": [
       "486"
      ]
     },
     "execution_count": 54,
     "metadata": {},
     "output_type": "execute_result"
    }
   ],
   "source": [
    "len(twelve)"
   ]
  },
  {
   "cell_type": "markdown",
   "metadata": {},
   "source": [
    "Let's have a look at an individual review to make sure we got all the pieces of information we wanted to get from scraping.   \n",
    "This one looks good - although the number of total ratings differs slightly from the the length of the list, this may be because a few people have simply given a star rating without a written review."
   ]
  },
  {
   "cell_type": "code",
   "execution_count": 55,
   "metadata": {},
   "outputs": [
    {
     "data": {
      "text/plain": [
       "{'product_name': 'Enlite Bra Weave High Support, A–E Cup Online Only',\n",
       " 'product_url': 'https://shop.lululemon.com/p/women-sports-bras/Enlite-Bra-Weave/_/prod9370109?color=0001',\n",
       " 'product_list_price': '$98.00 USD',\n",
       " 'product_avg_rating': '3.3',\n",
       " 'title': 'Fits small',\n",
       " 'content': 'I’m not sure if the bar is supposed to be so tight. I saw some of the reviews and though I’d better go one size up.\\nI had a very hard time hooking the clasps. The bar is very tight. This is my first day wearing it, so I can only hope the fabric loose a up a bit.\\nI bought it for horseback rising. And on the ground, this bra does have a good high impact support.',\n",
       " 'rating': '3',\n",
       " 'name': 'Anonymous',\n",
       " 'date': '2020-10-31',\n",
       " 'review counter': 1,\n",
       " 'num_total_ratings': '(495)'}"
      ]
     },
     "execution_count": 55,
     "metadata": {},
     "output_type": "execute_result"
    }
   ],
   "source": [
    "twelve[0]"
   ]
  },
  {
   "cell_type": "code",
   "execution_count": 56,
   "metadata": {},
   "outputs": [],
   "source": [
    "twelve = pd.DataFrame(twelve)"
   ]
  },
  {
   "cell_type": "code",
   "execution_count": 57,
   "metadata": {},
   "outputs": [
    {
     "data": {
      "text/plain": [
       "(486, 11)"
      ]
     },
     "execution_count": 57,
     "metadata": {},
     "output_type": "execute_result"
    }
   ],
   "source": [
    "twelve.shape"
   ]
  },
  {
   "cell_type": "markdown",
   "metadata": {},
   "source": [
    "# Build Dataframe"
   ]
  },
  {
   "cell_type": "markdown",
   "metadata": {},
   "source": [
    "Now that we have all the individual product dataframes, I will concat them to make dataframe of the entire set of product reviews."
   ]
  },
  {
   "cell_type": "code",
   "execution_count": 58,
   "metadata": {},
   "outputs": [],
   "source": [
    "df = pd.concat([zero, one, two, three, four, five, six, seven, eight, nine, ten, eleven, twelve])"
   ]
  },
  {
   "cell_type": "code",
   "execution_count": 59,
   "metadata": {},
   "outputs": [
    {
     "data": {
      "text/plain": [
       "(9127, 11)"
      ]
     },
     "execution_count": 59,
     "metadata": {},
     "output_type": "execute_result"
    }
   ],
   "source": [
    "df.shape"
   ]
  },
  {
   "cell_type": "code",
   "execution_count": 60,
   "metadata": {},
   "outputs": [],
   "source": [
    "with open('df.pickle', 'wb') as to_write:\n",
    "    pickle.dump(df, to_write)"
   ]
  },
  {
   "cell_type": "code",
   "execution_count": 61,
   "metadata": {
    "scrolled": true
   },
   "outputs": [
    {
     "data": {
      "text/html": [
       "<div>\n",
       "<style scoped>\n",
       "    .dataframe tbody tr th:only-of-type {\n",
       "        vertical-align: middle;\n",
       "    }\n",
       "\n",
       "    .dataframe tbody tr th {\n",
       "        vertical-align: top;\n",
       "    }\n",
       "\n",
       "    .dataframe thead th {\n",
       "        text-align: right;\n",
       "    }\n",
       "</style>\n",
       "<table border=\"1\" class=\"dataframe\">\n",
       "  <thead>\n",
       "    <tr style=\"text-align: right;\">\n",
       "      <th></th>\n",
       "      <th>product_name</th>\n",
       "      <th>product_url</th>\n",
       "      <th>product_list_price</th>\n",
       "      <th>product_avg_rating</th>\n",
       "      <th>title</th>\n",
       "      <th>content</th>\n",
       "      <th>rating</th>\n",
       "      <th>name</th>\n",
       "      <th>date</th>\n",
       "      <th>review counter</th>\n",
       "      <th>num_total_ratings</th>\n",
       "    </tr>\n",
       "  </thead>\n",
       "  <tbody>\n",
       "    <tr>\n",
       "      <th>0</th>\n",
       "      <td>Like a Cloud Bra Light Support, B/C Cup</td>\n",
       "      <td>https://shop.lululemon.com/p/women-sports-bras...</td>\n",
       "      <td>$58.00 USD</td>\n",
       "      <td>4.6</td>\n",
       "      <td>Haven't taken it off</td>\n",
       "      <td>I purchased this bra in the hazy jade color ab...</td>\n",
       "      <td>5</td>\n",
       "      <td>Anonymous</td>\n",
       "      <td>2020-10-31</td>\n",
       "      <td>1</td>\n",
       "      <td>(89)</td>\n",
       "    </tr>\n",
       "    <tr>\n",
       "      <th>1</th>\n",
       "      <td>Like a Cloud Bra Light Support, B/C Cup</td>\n",
       "      <td>https://shop.lululemon.com/p/women-sports-bras...</td>\n",
       "      <td>$58.00 USD</td>\n",
       "      <td>4.6</td>\n",
       "      <td>comfortable, but...</td>\n",
       "      <td>comfortable, but not for small frame/big chest...</td>\n",
       "      <td>3</td>\n",
       "      <td>Ashley Traister</td>\n",
       "      <td>2020-10-31</td>\n",
       "      <td>2</td>\n",
       "      <td>(89)</td>\n",
       "    </tr>\n",
       "    <tr>\n",
       "      <th>2</th>\n",
       "      <td>Like a Cloud Bra Light Support, B/C Cup</td>\n",
       "      <td>https://shop.lululemon.com/p/women-sports-bras...</td>\n",
       "      <td>$58.00 USD</td>\n",
       "      <td>4.6</td>\n",
       "      <td>Amazing</td>\n",
       "      <td>If it weren't for the price, I would replace a...</td>\n",
       "      <td>5</td>\n",
       "      <td>meaglee321</td>\n",
       "      <td>2020-10-31</td>\n",
       "      <td>3</td>\n",
       "      <td>(89)</td>\n",
       "    </tr>\n",
       "    <tr>\n",
       "      <th>3</th>\n",
       "      <td>Like a Cloud Bra Light Support, B/C Cup</td>\n",
       "      <td>https://shop.lululemon.com/p/women-sports-bras...</td>\n",
       "      <td>$58.00 USD</td>\n",
       "      <td>4.6</td>\n",
       "      <td>Comfort Bra 5*’s</td>\n",
       "      <td>Super soft and comfortable to wear all day. Ot...</td>\n",
       "      <td>5</td>\n",
       "      <td>Craftybayler</td>\n",
       "      <td>2020-10-30</td>\n",
       "      <td>4</td>\n",
       "      <td>(89)</td>\n",
       "    </tr>\n",
       "    <tr>\n",
       "      <th>4</th>\n",
       "      <td>Like a Cloud Bra Light Support, B/C Cup</td>\n",
       "      <td>https://shop.lululemon.com/p/women-sports-bras...</td>\n",
       "      <td>$58.00 USD</td>\n",
       "      <td>4.6</td>\n",
       "      <td>So comfortable!</td>\n",
       "      <td>I originally bought 2 but I’m buying more. I w...</td>\n",
       "      <td>5</td>\n",
       "      <td>Ash the mail lady</td>\n",
       "      <td>2020-10-30</td>\n",
       "      <td>5</td>\n",
       "      <td>(89)</td>\n",
       "    </tr>\n",
       "  </tbody>\n",
       "</table>\n",
       "</div>"
      ],
      "text/plain": [
       "                              product_name  \\\n",
       "0  Like a Cloud Bra Light Support, B/C Cup   \n",
       "1  Like a Cloud Bra Light Support, B/C Cup   \n",
       "2  Like a Cloud Bra Light Support, B/C Cup   \n",
       "3  Like a Cloud Bra Light Support, B/C Cup   \n",
       "4  Like a Cloud Bra Light Support, B/C Cup   \n",
       "\n",
       "                                         product_url product_list_price  \\\n",
       "0  https://shop.lululemon.com/p/women-sports-bras...         $58.00 USD   \n",
       "1  https://shop.lululemon.com/p/women-sports-bras...         $58.00 USD   \n",
       "2  https://shop.lululemon.com/p/women-sports-bras...         $58.00 USD   \n",
       "3  https://shop.lululemon.com/p/women-sports-bras...         $58.00 USD   \n",
       "4  https://shop.lululemon.com/p/women-sports-bras...         $58.00 USD   \n",
       "\n",
       "  product_avg_rating                 title  \\\n",
       "0                4.6  Haven't taken it off   \n",
       "1                4.6   comfortable, but...   \n",
       "2                4.6               Amazing   \n",
       "3                4.6      Comfort Bra 5*’s   \n",
       "4                4.6       So comfortable!   \n",
       "\n",
       "                                             content rating  \\\n",
       "0  I purchased this bra in the hazy jade color ab...      5   \n",
       "1  comfortable, but not for small frame/big chest...      3   \n",
       "2  If it weren't for the price, I would replace a...      5   \n",
       "3  Super soft and comfortable to wear all day. Ot...      5   \n",
       "4  I originally bought 2 but I’m buying more. I w...      5   \n",
       "\n",
       "                name        date  review counter num_total_ratings  \n",
       "0          Anonymous  2020-10-31               1              (89)  \n",
       "1    Ashley Traister  2020-10-31               2              (89)  \n",
       "2         meaglee321  2020-10-31               3              (89)  \n",
       "3       Craftybayler  2020-10-30               4              (89)  \n",
       "4  Ash the mail lady  2020-10-30               5              (89)  "
      ]
     },
     "execution_count": 61,
     "metadata": {},
     "output_type": "execute_result"
    }
   ],
   "source": [
    "df.head()"
   ]
  },
  {
   "cell_type": "markdown",
   "metadata": {},
   "source": [
    "# Data Cleaning  \n",
    "Overall things look good, but let's do a bit of cleaning."
   ]
  },
  {
   "cell_type": "code",
   "execution_count": 62,
   "metadata": {},
   "outputs": [],
   "source": [
    "df_cleaned = df.copy()"
   ]
  },
  {
   "cell_type": "code",
   "execution_count": 63,
   "metadata": {},
   "outputs": [
    {
     "data": {
      "text/plain": [
       "(9127, 11)"
      ]
     },
     "execution_count": 63,
     "metadata": {},
     "output_type": "execute_result"
    }
   ],
   "source": [
    "df_cleaned.shape"
   ]
  },
  {
   "cell_type": "code",
   "execution_count": 64,
   "metadata": {},
   "outputs": [
    {
     "name": "stdout",
     "output_type": "stream",
     "text": [
      "<class 'pandas.core.frame.DataFrame'>\n",
      "Int64Index: 9127 entries, 0 to 485\n",
      "Data columns (total 11 columns):\n",
      " #   Column              Non-Null Count  Dtype \n",
      "---  ------              --------------  ----- \n",
      " 0   product_name        9127 non-null   object\n",
      " 1   product_url         9127 non-null   object\n",
      " 2   product_list_price  9127 non-null   object\n",
      " 3   product_avg_rating  9127 non-null   object\n",
      " 4   title               9127 non-null   object\n",
      " 5   content             9127 non-null   object\n",
      " 6   rating              9127 non-null   object\n",
      " 7   name                9127 non-null   object\n",
      " 8   date                9127 non-null   object\n",
      " 9   review counter      9127 non-null   int64 \n",
      " 10  num_total_ratings   9127 non-null   object\n",
      "dtypes: int64(1), object(10)\n",
      "memory usage: 855.7+ KB\n"
     ]
    }
   ],
   "source": [
    "df_cleaned.info()"
   ]
  },
  {
   "cell_type": "markdown",
   "metadata": {},
   "source": [
    "Several of these features should be turned into ints or floats."
   ]
  },
  {
   "cell_type": "code",
   "execution_count": 65,
   "metadata": {},
   "outputs": [
    {
     "data": {
      "text/plain": [
       "array(['5', '3', '1', '2', '4'], dtype=object)"
      ]
     },
     "execution_count": 65,
     "metadata": {},
     "output_type": "execute_result"
    }
   ],
   "source": [
    "df_cleaned.rating.unique()"
   ]
  },
  {
   "cell_type": "code",
   "execution_count": 66,
   "metadata": {},
   "outputs": [],
   "source": [
    "df_cleaned['rating'] = df_cleaned['rating'].astype(int)"
   ]
  },
  {
   "cell_type": "code",
   "execution_count": 67,
   "metadata": {},
   "outputs": [
    {
     "data": {
      "text/plain": [
       "array([5, 3, 1, 2, 4])"
      ]
     },
     "execution_count": 67,
     "metadata": {},
     "output_type": "execute_result"
    }
   ],
   "source": [
    "df_cleaned.rating.unique()"
   ]
  },
  {
   "cell_type": "code",
   "execution_count": 68,
   "metadata": {},
   "outputs": [
    {
     "data": {
      "text/plain": [
       "array(['(89)', '(3069)', '(1551)', '(53)', '(852)', '(123)', '(707)',\n",
       "       '(870)', '(340)', '(558)', '(228)', '(495)'], dtype=object)"
      ]
     },
     "execution_count": 68,
     "metadata": {},
     "output_type": "execute_result"
    }
   ],
   "source": [
    "df_cleaned.num_total_ratings.unique()"
   ]
  },
  {
   "cell_type": "code",
   "execution_count": 69,
   "metadata": {},
   "outputs": [],
   "source": [
    "df_cleaned.num_total_ratings = df_cleaned.num_total_ratings.str.replace(\")\", \"\")\n",
    "df_cleaned.num_total_ratings = df_cleaned.num_total_ratings.str.replace(\"(\", \"\")\n",
    "df_cleaned['num_total_ratings'] = df_cleaned['num_total_ratings'].astype(int)"
   ]
  },
  {
   "cell_type": "code",
   "execution_count": 70,
   "metadata": {},
   "outputs": [
    {
     "data": {
      "text/plain": [
       "array([  89, 3069, 1551,   53,  852,  123,  707,  870,  340,  558,  228,\n",
       "        495])"
      ]
     },
     "execution_count": 70,
     "metadata": {},
     "output_type": "execute_result"
    }
   ],
   "source": [
    "df_cleaned.num_total_ratings.unique()"
   ]
  },
  {
   "cell_type": "code",
   "execution_count": 71,
   "metadata": {},
   "outputs": [
    {
     "data": {
      "text/plain": [
       "array(['4.6', '4.1', '4.2', '3.8', '3.5', '3.1', '4.0', '4.3', '3.3'],\n",
       "      dtype=object)"
      ]
     },
     "execution_count": 71,
     "metadata": {},
     "output_type": "execute_result"
    }
   ],
   "source": [
    "df_cleaned['product_avg_rating'].unique()"
   ]
  },
  {
   "cell_type": "markdown",
   "metadata": {},
   "source": [
    "for some reason, one or more of our products is missing an average product rating. - Can replace with NaN then covert variable type to float"
   ]
  },
  {
   "cell_type": "code",
   "execution_count": 72,
   "metadata": {},
   "outputs": [],
   "source": [
    "df_cleaned['product_avg_rating'] = df_cleaned['product_avg_rating'].astype(float)"
   ]
  },
  {
   "cell_type": "code",
   "execution_count": 73,
   "metadata": {},
   "outputs": [
    {
     "data": {
      "text/plain": [
       "array(['$58.00 USD', '$52.00 USD', '$48.00 USD', '$54.00 USD',\n",
       "       '$108.00 USD', '$68.00 USD', '$98.00 USD'], dtype=object)"
      ]
     },
     "execution_count": 73,
     "metadata": {},
     "output_type": "execute_result"
    }
   ],
   "source": [
    "df_cleaned['product_list_price'].unique()"
   ]
  },
  {
   "cell_type": "code",
   "execution_count": 74,
   "metadata": {},
   "outputs": [],
   "source": [
    "df_cleaned.product_list_price = df_cleaned.product_list_price.str.replace(\"$\", \"\")\n",
    "df_cleaned.product_list_price = df_cleaned.product_list_price.str.replace(\"USD\", \"\")\n",
    "df_cleaned['product_list_price'] = df_cleaned['product_list_price'].astype(float)"
   ]
  },
  {
   "cell_type": "code",
   "execution_count": 75,
   "metadata": {},
   "outputs": [
    {
     "data": {
      "text/plain": [
       "array([ 58.,  52.,  48.,  54., 108.,  68.,  98.])"
      ]
     },
     "execution_count": 75,
     "metadata": {},
     "output_type": "execute_result"
    }
   ],
   "source": [
    "df_cleaned['product_list_price'].unique()"
   ]
  },
  {
   "cell_type": "code",
   "execution_count": 76,
   "metadata": {},
   "outputs": [
    {
     "data": {
      "text/plain": [
       "array(['2020-10-31', '2020-10-30', '2020-10-28', ..., '2019-06-14',\n",
       "       '2019-09-01', '2019-06-28'], dtype=object)"
      ]
     },
     "execution_count": 76,
     "metadata": {},
     "output_type": "execute_result"
    }
   ],
   "source": [
    "df_cleaned['date'].unique()"
   ]
  },
  {
   "cell_type": "code",
   "execution_count": 77,
   "metadata": {},
   "outputs": [],
   "source": [
    "df_cleaned['date'] =  pd.to_datetime(df_cleaned['date'])"
   ]
  },
  {
   "cell_type": "code",
   "execution_count": 78,
   "metadata": {},
   "outputs": [
    {
     "name": "stdout",
     "output_type": "stream",
     "text": [
      "<class 'pandas.core.frame.DataFrame'>\n",
      "Int64Index: 9127 entries, 0 to 485\n",
      "Data columns (total 11 columns):\n",
      " #   Column              Non-Null Count  Dtype         \n",
      "---  ------              --------------  -----         \n",
      " 0   product_name        9127 non-null   object        \n",
      " 1   product_url         9127 non-null   object        \n",
      " 2   product_list_price  9127 non-null   float64       \n",
      " 3   product_avg_rating  9127 non-null   float64       \n",
      " 4   title               9127 non-null   object        \n",
      " 5   content             9127 non-null   object        \n",
      " 6   rating              9127 non-null   int64         \n",
      " 7   name                9127 non-null   object        \n",
      " 8   date                9127 non-null   datetime64[ns]\n",
      " 9   review counter      9127 non-null   int64         \n",
      " 10  num_total_ratings   9127 non-null   int64         \n",
      "dtypes: datetime64[ns](1), float64(2), int64(3), object(5)\n",
      "memory usage: 855.7+ KB\n"
     ]
    }
   ],
   "source": [
    "df_cleaned.info()"
   ]
  },
  {
   "cell_type": "markdown",
   "metadata": {},
   "source": [
    "# Preliminary EDA"
   ]
  },
  {
   "cell_type": "code",
   "execution_count": 79,
   "metadata": {},
   "outputs": [
    {
     "data": {
      "text/html": [
       "<div>\n",
       "<style scoped>\n",
       "    .dataframe tbody tr th:only-of-type {\n",
       "        vertical-align: middle;\n",
       "    }\n",
       "\n",
       "    .dataframe tbody tr th {\n",
       "        vertical-align: top;\n",
       "    }\n",
       "\n",
       "    .dataframe thead th {\n",
       "        text-align: right;\n",
       "    }\n",
       "</style>\n",
       "<table border=\"1\" class=\"dataframe\">\n",
       "  <thead>\n",
       "    <tr style=\"text-align: right;\">\n",
       "      <th></th>\n",
       "      <th>product_list_price</th>\n",
       "      <th>product_avg_rating</th>\n",
       "      <th>rating</th>\n",
       "      <th>review counter</th>\n",
       "      <th>num_total_ratings</th>\n",
       "    </tr>\n",
       "  </thead>\n",
       "  <tbody>\n",
       "    <tr>\n",
       "      <th>count</th>\n",
       "      <td>9127.000000</td>\n",
       "      <td>9127.000000</td>\n",
       "      <td>9127.000000</td>\n",
       "      <td>9127.000000</td>\n",
       "      <td>9127.000000</td>\n",
       "    </tr>\n",
       "    <tr>\n",
       "      <th>mean</th>\n",
       "      <td>59.712501</td>\n",
       "      <td>3.961028</td>\n",
       "      <td>3.969650</td>\n",
       "      <td>784.839706</td>\n",
       "      <td>1587.956612</td>\n",
       "    </tr>\n",
       "    <tr>\n",
       "      <th>std</th>\n",
       "      <td>17.785354</td>\n",
       "      <td>0.298449</td>\n",
       "      <td>1.372717</td>\n",
       "      <td>780.487433</td>\n",
       "      <td>1110.712871</td>\n",
       "    </tr>\n",
       "    <tr>\n",
       "      <th>min</th>\n",
       "      <td>48.000000</td>\n",
       "      <td>3.100000</td>\n",
       "      <td>1.000000</td>\n",
       "      <td>1.000000</td>\n",
       "      <td>53.000000</td>\n",
       "    </tr>\n",
       "    <tr>\n",
       "      <th>25%</th>\n",
       "      <td>48.000000</td>\n",
       "      <td>3.800000</td>\n",
       "      <td>3.000000</td>\n",
       "      <td>202.000000</td>\n",
       "      <td>707.000000</td>\n",
       "    </tr>\n",
       "    <tr>\n",
       "      <th>50%</th>\n",
       "      <td>52.000000</td>\n",
       "      <td>4.100000</td>\n",
       "      <td>5.000000</td>\n",
       "      <td>491.000000</td>\n",
       "      <td>1551.000000</td>\n",
       "    </tr>\n",
       "    <tr>\n",
       "      <th>75%</th>\n",
       "      <td>58.000000</td>\n",
       "      <td>4.100000</td>\n",
       "      <td>5.000000</td>\n",
       "      <td>1144.500000</td>\n",
       "      <td>3069.000000</td>\n",
       "    </tr>\n",
       "    <tr>\n",
       "      <th>max</th>\n",
       "      <td>108.000000</td>\n",
       "      <td>4.600000</td>\n",
       "      <td>5.000000</td>\n",
       "      <td>3036.000000</td>\n",
       "      <td>3069.000000</td>\n",
       "    </tr>\n",
       "  </tbody>\n",
       "</table>\n",
       "</div>"
      ],
      "text/plain": [
       "       product_list_price  product_avg_rating       rating  review counter  \\\n",
       "count         9127.000000         9127.000000  9127.000000     9127.000000   \n",
       "mean            59.712501            3.961028     3.969650      784.839706   \n",
       "std             17.785354            0.298449     1.372717      780.487433   \n",
       "min             48.000000            3.100000     1.000000        1.000000   \n",
       "25%             48.000000            3.800000     3.000000      202.000000   \n",
       "50%             52.000000            4.100000     5.000000      491.000000   \n",
       "75%             58.000000            4.100000     5.000000     1144.500000   \n",
       "max            108.000000            4.600000     5.000000     3036.000000   \n",
       "\n",
       "       num_total_ratings  \n",
       "count        9127.000000  \n",
       "mean         1587.956612  \n",
       "std          1110.712871  \n",
       "min            53.000000  \n",
       "25%           707.000000  \n",
       "50%          1551.000000  \n",
       "75%          3069.000000  \n",
       "max          3069.000000  "
      ]
     },
     "execution_count": 79,
     "metadata": {},
     "output_type": "execute_result"
    }
   ],
   "source": [
    "df_cleaned.describe()"
   ]
  },
  {
   "cell_type": "code",
   "execution_count": 80,
   "metadata": {},
   "outputs": [
    {
     "data": {
      "text/plain": [
       "Energy Bra Medium Support, B–D Cup                                    0.332639\n",
       "Free To Be Bra Wild Light Support, A/B Cup                            0.168073\n",
       "Energy Bra Long Line Medium Support, B–D Cup                          0.094226\n",
       "Flow Y Bra Nulu Light Support, B/C Cup                                0.092911\n",
       "Enlite Bra Zip Front High Support, A–E Cups                           0.075709\n",
       "Run Times Bra High Support, B–E Cups                                  0.059165\n",
       "Enlite Bra Weave High Support, A–E Cup Online Only                    0.053249\n",
       "Energy Bra High Neck Medium Support, B–D Cup                          0.036595\n",
       "Ebb To Street Bra Light Support, A/B Cup                              0.033746\n",
       "Free To Be Serene Bra Long Line Light Support, C/D Cup Online Only    0.024652\n",
       "Ebb to Street Bra Light Support, C/D Cup                              0.013476\n",
       "Like a Cloud Bra Light Support, B/C Cup                               0.009751\n",
       "Invigorate Bra Long Line Medium Support, B/C Cup                      0.005807\n",
       "Name: product_name, dtype: float64"
      ]
     },
     "execution_count": 80,
     "metadata": {},
     "output_type": "execute_result"
    }
   ],
   "source": [
    "df_cleaned.product_name.value_counts(normalize=True)"
   ]
  },
  {
   "cell_type": "code",
   "execution_count": 81,
   "metadata": {},
   "outputs": [
    {
     "data": {
      "text/plain": [
       "4.1    0.594938\n",
       "3.8    0.092911\n",
       "3.5    0.075709\n",
       "4.0    0.059165\n",
       "3.3    0.053249\n",
       "4.2    0.043936\n",
       "4.3    0.036595\n",
       "3.1    0.033746\n",
       "4.6    0.009751\n",
       "Name: product_avg_rating, dtype: float64"
      ]
     },
     "execution_count": 81,
     "metadata": {},
     "output_type": "execute_result"
    }
   ],
   "source": [
    "df_cleaned.product_avg_rating.value_counts(normalize=True)"
   ]
  },
  {
   "cell_type": "code",
   "execution_count": 95,
   "metadata": {},
   "outputs": [
    {
     "name": "stdout",
     "output_type": "stream",
     "text": [
      "mean: 3.97\n",
      " median: 5.00\n",
      " std dev: 1.37\n",
      " \n"
     ]
    }
   ],
   "source": [
    "print(\"mean: {:.2f}\\n median: {:.2f}\\n std dev: {:.2f}\\n \".format(df_cleaned.rating.mean(), df_cleaned.rating.median(), df_cleaned.rating.std())) #, df_cleaned.rating.median(), df_cleaned.rating.std(), "
   ]
  },
  {
   "cell_type": "code",
   "execution_count": 82,
   "metadata": {},
   "outputs": [],
   "source": [
    "df_cleaned[\"rev_length\"] = df_cleaned['content'].apply(len)"
   ]
  },
  {
   "cell_type": "code",
   "execution_count": 83,
   "metadata": {},
   "outputs": [
    {
     "data": {
      "text/plain": [
       "(256.0, 311.9513531280815, 236.4312606315249)"
      ]
     },
     "execution_count": 83,
     "metadata": {},
     "output_type": "execute_result"
    }
   ],
   "source": [
    "df_cleaned.rev_length.median(), df_cleaned.rev_length.mean(), df_cleaned.rev_length.std() "
   ]
  },
  {
   "cell_type": "code",
   "execution_count": 84,
   "metadata": {
    "scrolled": true
   },
   "outputs": [
    {
     "data": {
      "text/html": [
       "<div>\n",
       "<style scoped>\n",
       "    .dataframe tbody tr th:only-of-type {\n",
       "        vertical-align: middle;\n",
       "    }\n",
       "\n",
       "    .dataframe tbody tr th {\n",
       "        vertical-align: top;\n",
       "    }\n",
       "\n",
       "    .dataframe thead th {\n",
       "        text-align: right;\n",
       "    }\n",
       "</style>\n",
       "<table border=\"1\" class=\"dataframe\">\n",
       "  <thead>\n",
       "    <tr style=\"text-align: right;\">\n",
       "      <th></th>\n",
       "      <th>product_list_price</th>\n",
       "      <th>product_avg_rating</th>\n",
       "      <th>rating</th>\n",
       "      <th>review counter</th>\n",
       "      <th>num_total_ratings</th>\n",
       "      <th>rev_length</th>\n",
       "    </tr>\n",
       "  </thead>\n",
       "  <tbody>\n",
       "    <tr>\n",
       "      <th>count</th>\n",
       "      <td>9127.000000</td>\n",
       "      <td>9127.000000</td>\n",
       "      <td>9127.000000</td>\n",
       "      <td>9127.000000</td>\n",
       "      <td>9127.000000</td>\n",
       "      <td>9127.000000</td>\n",
       "    </tr>\n",
       "    <tr>\n",
       "      <th>mean</th>\n",
       "      <td>59.712501</td>\n",
       "      <td>3.961028</td>\n",
       "      <td>3.969650</td>\n",
       "      <td>784.839706</td>\n",
       "      <td>1587.956612</td>\n",
       "      <td>311.951353</td>\n",
       "    </tr>\n",
       "    <tr>\n",
       "      <th>std</th>\n",
       "      <td>17.785354</td>\n",
       "      <td>0.298449</td>\n",
       "      <td>1.372717</td>\n",
       "      <td>780.487433</td>\n",
       "      <td>1110.712871</td>\n",
       "      <td>236.431261</td>\n",
       "    </tr>\n",
       "    <tr>\n",
       "      <th>min</th>\n",
       "      <td>48.000000</td>\n",
       "      <td>3.100000</td>\n",
       "      <td>1.000000</td>\n",
       "      <td>1.000000</td>\n",
       "      <td>53.000000</td>\n",
       "      <td>0.000000</td>\n",
       "    </tr>\n",
       "    <tr>\n",
       "      <th>25%</th>\n",
       "      <td>48.000000</td>\n",
       "      <td>3.800000</td>\n",
       "      <td>3.000000</td>\n",
       "      <td>202.000000</td>\n",
       "      <td>707.000000</td>\n",
       "      <td>144.000000</td>\n",
       "    </tr>\n",
       "    <tr>\n",
       "      <th>50%</th>\n",
       "      <td>52.000000</td>\n",
       "      <td>4.100000</td>\n",
       "      <td>5.000000</td>\n",
       "      <td>491.000000</td>\n",
       "      <td>1551.000000</td>\n",
       "      <td>256.000000</td>\n",
       "    </tr>\n",
       "    <tr>\n",
       "      <th>75%</th>\n",
       "      <td>58.000000</td>\n",
       "      <td>4.100000</td>\n",
       "      <td>5.000000</td>\n",
       "      <td>1144.500000</td>\n",
       "      <td>3069.000000</td>\n",
       "      <td>415.000000</td>\n",
       "    </tr>\n",
       "    <tr>\n",
       "      <th>max</th>\n",
       "      <td>108.000000</td>\n",
       "      <td>4.600000</td>\n",
       "      <td>5.000000</td>\n",
       "      <td>3036.000000</td>\n",
       "      <td>3069.000000</td>\n",
       "      <td>2479.000000</td>\n",
       "    </tr>\n",
       "  </tbody>\n",
       "</table>\n",
       "</div>"
      ],
      "text/plain": [
       "       product_list_price  product_avg_rating       rating  review counter  \\\n",
       "count         9127.000000         9127.000000  9127.000000     9127.000000   \n",
       "mean            59.712501            3.961028     3.969650      784.839706   \n",
       "std             17.785354            0.298449     1.372717      780.487433   \n",
       "min             48.000000            3.100000     1.000000        1.000000   \n",
       "25%             48.000000            3.800000     3.000000      202.000000   \n",
       "50%             52.000000            4.100000     5.000000      491.000000   \n",
       "75%             58.000000            4.100000     5.000000     1144.500000   \n",
       "max            108.000000            4.600000     5.000000     3036.000000   \n",
       "\n",
       "       num_total_ratings   rev_length  \n",
       "count        9127.000000  9127.000000  \n",
       "mean         1587.956612   311.951353  \n",
       "std          1110.712871   236.431261  \n",
       "min            53.000000     0.000000  \n",
       "25%           707.000000   144.000000  \n",
       "50%          1551.000000   256.000000  \n",
       "75%          3069.000000   415.000000  \n",
       "max          3069.000000  2479.000000  "
      ]
     },
     "execution_count": 84,
     "metadata": {},
     "output_type": "execute_result"
    }
   ],
   "source": [
    "df_cleaned.describe()"
   ]
  },
  {
   "cell_type": "markdown",
   "metadata": {},
   "source": [
    "One final step to check for rows with empty content and remove them."
   ]
  },
  {
   "cell_type": "code",
   "execution_count": 110,
   "metadata": {},
   "outputs": [],
   "source": [
    "empty = df_cleaned[df_cleaned.content == '']"
   ]
  },
  {
   "cell_type": "code",
   "execution_count": 116,
   "metadata": {},
   "outputs": [
    {
     "data": {
      "text/plain": [
       "(37, 12)"
      ]
     },
     "execution_count": 116,
     "metadata": {},
     "output_type": "execute_result"
    }
   ],
   "source": [
    "empty.shape "
   ]
  },
  {
   "cell_type": "code",
   "execution_count": 114,
   "metadata": {
    "scrolled": true
   },
   "outputs": [
    {
     "data": {
      "text/html": [
       "<div>\n",
       "<style scoped>\n",
       "    .dataframe tbody tr th:only-of-type {\n",
       "        vertical-align: middle;\n",
       "    }\n",
       "\n",
       "    .dataframe tbody tr th {\n",
       "        vertical-align: top;\n",
       "    }\n",
       "\n",
       "    .dataframe thead th {\n",
       "        text-align: right;\n",
       "    }\n",
       "</style>\n",
       "<table border=\"1\" class=\"dataframe\">\n",
       "  <thead>\n",
       "    <tr style=\"text-align: right;\">\n",
       "      <th></th>\n",
       "      <th>product_name</th>\n",
       "      <th>product_url</th>\n",
       "      <th>product_list_price</th>\n",
       "      <th>product_avg_rating</th>\n",
       "      <th>title</th>\n",
       "      <th>content</th>\n",
       "      <th>rating</th>\n",
       "      <th>name</th>\n",
       "      <th>date</th>\n",
       "      <th>review counter</th>\n",
       "      <th>num_total_ratings</th>\n",
       "      <th>rev_length</th>\n",
       "    </tr>\n",
       "  </thead>\n",
       "  <tbody>\n",
       "    <tr>\n",
       "      <th>688</th>\n",
       "      <td>Energy Bra Medium Support, B–D Cup</td>\n",
       "      <td>https://shop.lululemon.com/p/women-sports-bras...</td>\n",
       "      <td>52.0</td>\n",
       "      <td>4.1</td>\n",
       "      <td></td>\n",
       "      <td></td>\n",
       "      <td>1</td>\n",
       "      <td>AlexYork20</td>\n",
       "      <td>2020-03-02</td>\n",
       "      <td>689</td>\n",
       "      <td>3069</td>\n",
       "      <td>0</td>\n",
       "    </tr>\n",
       "    <tr>\n",
       "      <th>690</th>\n",
       "      <td>Energy Bra Medium Support, B–D Cup</td>\n",
       "      <td>https://shop.lululemon.com/p/women-sports-bras...</td>\n",
       "      <td>52.0</td>\n",
       "      <td>4.1</td>\n",
       "      <td></td>\n",
       "      <td></td>\n",
       "      <td>3</td>\n",
       "      <td>WorkinoutLily</td>\n",
       "      <td>2020-03-02</td>\n",
       "      <td>691</td>\n",
       "      <td>3069</td>\n",
       "      <td>0</td>\n",
       "    </tr>\n",
       "    <tr>\n",
       "      <th>693</th>\n",
       "      <td>Energy Bra Medium Support, B–D Cup</td>\n",
       "      <td>https://shop.lululemon.com/p/women-sports-bras...</td>\n",
       "      <td>52.0</td>\n",
       "      <td>4.1</td>\n",
       "      <td></td>\n",
       "      <td></td>\n",
       "      <td>1</td>\n",
       "      <td>Yanni Yang</td>\n",
       "      <td>2020-03-01</td>\n",
       "      <td>694</td>\n",
       "      <td>3069</td>\n",
       "      <td>0</td>\n",
       "    </tr>\n",
       "    <tr>\n",
       "      <th>761</th>\n",
       "      <td>Energy Bra Medium Support, B–D Cup</td>\n",
       "      <td>https://shop.lululemon.com/p/women-sports-bras...</td>\n",
       "      <td>52.0</td>\n",
       "      <td>4.1</td>\n",
       "      <td>Great fit and very comfortable!</td>\n",
       "      <td></td>\n",
       "      <td>5</td>\n",
       "      <td>Kls3</td>\n",
       "      <td>2019-12-28</td>\n",
       "      <td>762</td>\n",
       "      <td>3069</td>\n",
       "      <td>0</td>\n",
       "    </tr>\n",
       "    <tr>\n",
       "      <th>810</th>\n",
       "      <td>Energy Bra Medium Support, B–D Cup</td>\n",
       "      <td>https://shop.lululemon.com/p/women-sports-bras...</td>\n",
       "      <td>52.0</td>\n",
       "      <td>4.1</td>\n",
       "      <td>great bra</td>\n",
       "      <td></td>\n",
       "      <td>5</td>\n",
       "      <td>SarahAnvari</td>\n",
       "      <td>2019-10-28</td>\n",
       "      <td>811</td>\n",
       "      <td>3069</td>\n",
       "      <td>0</td>\n",
       "    </tr>\n",
       "  </tbody>\n",
       "</table>\n",
       "</div>"
      ],
      "text/plain": [
       "                           product_name  \\\n",
       "688  Energy Bra Medium Support, B–D Cup   \n",
       "690  Energy Bra Medium Support, B–D Cup   \n",
       "693  Energy Bra Medium Support, B–D Cup   \n",
       "761  Energy Bra Medium Support, B–D Cup   \n",
       "810  Energy Bra Medium Support, B–D Cup   \n",
       "\n",
       "                                           product_url  product_list_price  \\\n",
       "688  https://shop.lululemon.com/p/women-sports-bras...                52.0   \n",
       "690  https://shop.lululemon.com/p/women-sports-bras...                52.0   \n",
       "693  https://shop.lululemon.com/p/women-sports-bras...                52.0   \n",
       "761  https://shop.lululemon.com/p/women-sports-bras...                52.0   \n",
       "810  https://shop.lululemon.com/p/women-sports-bras...                52.0   \n",
       "\n",
       "     product_avg_rating                            title content  rating  \\\n",
       "688                 4.1                                                1   \n",
       "690                 4.1                                                3   \n",
       "693                 4.1                                                1   \n",
       "761                 4.1  Great fit and very comfortable!               5   \n",
       "810                 4.1                        great bra               5   \n",
       "\n",
       "              name       date  review counter  num_total_ratings  rev_length  \n",
       "688     AlexYork20 2020-03-02             689               3069           0  \n",
       "690  WorkinoutLily 2020-03-02             691               3069           0  \n",
       "693     Yanni Yang 2020-03-01             694               3069           0  \n",
       "761           Kls3 2019-12-28             762               3069           0  \n",
       "810    SarahAnvari 2019-10-28             811               3069           0  "
      ]
     },
     "execution_count": 114,
     "metadata": {},
     "output_type": "execute_result"
    }
   ],
   "source": [
    "empty.head()"
   ]
  },
  {
   "cell_type": "code",
   "execution_count": 117,
   "metadata": {},
   "outputs": [],
   "source": [
    "df_cleaned = df_cleaned[df_cleaned.content != '']"
   ]
  },
  {
   "cell_type": "code",
   "execution_count": 119,
   "metadata": {},
   "outputs": [
    {
     "data": {
      "text/plain": [
       "(9090, 12)"
      ]
     },
     "execution_count": 119,
     "metadata": {},
     "output_type": "execute_result"
    }
   ],
   "source": [
    "df_cleaned.shape"
   ]
  },
  {
   "cell_type": "code",
   "execution_count": 118,
   "metadata": {},
   "outputs": [],
   "source": [
    "with open('df_cleaned.pickle', 'wb') as to_write:\n",
    "    pickle.dump(df_cleaned, to_write)"
   ]
  }
 ],
 "metadata": {
  "kernelspec": {
   "display_name": "Python 3",
   "language": "python",
   "name": "python3"
  },
  "language_info": {
   "codemirror_mode": {
    "name": "ipython",
    "version": 3
   },
   "file_extension": ".py",
   "mimetype": "text/x-python",
   "name": "python",
   "nbconvert_exporter": "python",
   "pygments_lexer": "ipython3",
   "version": "3.8.5"
  }
 },
 "nbformat": 4,
 "nbformat_minor": 4
}
